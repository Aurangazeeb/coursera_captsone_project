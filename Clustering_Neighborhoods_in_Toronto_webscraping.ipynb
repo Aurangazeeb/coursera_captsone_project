{
    "cells": [
        {
            "metadata": {},
            "cell_type": "markdown",
            "source": "## _<center> Webscraping (Part-1)</center>_"
        },
        {
            "metadata": {},
            "cell_type": "markdown",
            "source": "### Importing necassary packages "
        },
        {
            "metadata": {},
            "cell_type": "code",
            "source": "import pandas as pd\nimport numpy as np",
            "execution_count": 268,
            "outputs": []
        },
        {
            "metadata": {},
            "cell_type": "markdown",
            "source": "Importing necessary packages for webscraping"
        },
        {
            "metadata": {},
            "cell_type": "code",
            "source": "from bs4 import BeautifulSoup as bs\nimport requests\nimport re",
            "execution_count": 269,
            "outputs": []
        },
        {
            "metadata": {},
            "cell_type": "markdown",
            "source": "### Obtaining dataset from Wikipedia"
        },
        {
            "metadata": {},
            "cell_type": "code",
            "source": "#wikipedia url\nwiki_url = 'https://en.wikipedia.org/wiki/List_of_postal_codes_of_Canada:_M'",
            "execution_count": 3,
            "outputs": []
        },
        {
            "metadata": {},
            "cell_type": "code",
            "source": "#getting website data\nwiki_response = requests.get(wiki_url).content\nhtmlsoup = bs(wiki_response, 'html.parser')",
            "execution_count": 4,
            "outputs": []
        },
        {
            "metadata": {},
            "cell_type": "markdown",
            "source": "#### Getting web content - Toronto table "
        },
        {
            "metadata": {},
            "cell_type": "code",
            "source": "toronto_table = htmlsoup.table.text\n#see the table\ntoronto_table[:100]",
            "execution_count": 152,
            "outputs": [
                {
                    "output_type": "execute_result",
                    "execution_count": 152,
                    "data": {
                        "text/plain": "'\\n\\nPostal Code\\n\\nBorough\\n\\nNeighborhood\\n\\n\\nM1A\\n\\nNot assigned\\n\\n\\n\\n\\nM2A\\n\\nNot assigned\\n\\n\\n\\n\\nM3A\\n\\nNorth York\\n\\n'"
                    },
                    "metadata": {}
                }
            ]
        },
        {
            "metadata": {},
            "cell_type": "markdown",
            "source": "####  Making the Toronto Postal Code dataframe"
        },
        {
            "metadata": {},
            "cell_type": "code",
            "source": "#removing escape sequence\ntable_values = re.sub('\\n',' ', toronto_table)\ntable_values[:100]",
            "execution_count": 159,
            "outputs": [
                {
                    "output_type": "execute_result",
                    "execution_count": 159,
                    "data": {
                        "text/plain": "'  Postal Code  Borough  Neighborhood   M1A  Not assigned     M2A  Not assigned     M3A  North York  '"
                    },
                    "metadata": {}
                }
            ]
        },
        {
            "metadata": {},
            "cell_type": "code",
            "source": "table_list = table_values.split('   ')\ntable_list[:300]",
            "execution_count": 176,
            "outputs": [
                {
                    "output_type": "execute_result",
                    "execution_count": 176,
                    "data": {
                        "text/plain": "['  Postal Code  Borough  Neighborhood',\n 'M1A  Not assigned',\n '  M2A  Not assigned',\n '  M3A  North York  Parkwoods',\n 'M4A  North York  Victoria Village',\n 'M5A  Downtown Toronto  Regent Park, Harbourfront',\n 'M6A  North York  Lawrence Manor, Lawrence Heights',\n \"M7A  Downtown Toronto  Queen's Park, Ontario Provincial Government\",\n 'M8A  Not assigned',\n '  M9A  Etobicoke  Islington Avenue, Humber Valley Village',\n 'M1B  Scarborough  Malvern, Rouge',\n 'M2B  Not assigned',\n '  M3B  North York  Don Mills',\n 'M4B  East York  Parkview Hill, Woodbine Gardens',\n 'M5B  Downtown Toronto  Garden District, Ryerson',\n 'M6B  North York  Glencairn',\n 'M7B  Not assigned',\n '  M8B  Not assigned',\n '  M9B  Etobicoke  West Deane Park, Princess Gardens, Martin Grove, Islington, Cloverdale',\n 'M1C  Scarborough  Rouge Hill, Port Union, Highland Creek',\n 'M2C  Not assigned',\n '  M3C  North York  Don Mills',\n 'M4C  East York  Woodbine Heights',\n 'M5C  Downtown Toronto  St. James Town',\n 'M6C  York  Humewood-Cedarvale',\n 'M7C  Not assigned',\n '  M8C  Not assigned',\n '  M9C  Etobicoke  Eringate, Bloordale Gardens, Old Burnhamthorpe, Markland Wood',\n 'M1E  Scarborough  Guildwood, Morningside, West Hill',\n 'M2E  Not assigned',\n '  M3E  Not assigned',\n '  M4E  East Toronto  The Beaches',\n 'M5E  Downtown Toronto  Berczy Park',\n 'M6E  York  Caledonia-Fairbanks',\n 'M7E  Not assigned',\n '  M8E  Not assigned',\n '  M9E  Not assigned',\n '  M1G  Scarborough  Woburn',\n 'M2G  Not assigned',\n '  M3G  Not assigned',\n '  M4G  East York  Leaside',\n 'M5G  Downtown Toronto  Central Bay Street',\n 'M6G  Downtown Toronto  Christie',\n 'M7G  Not assigned',\n '  M8G  Not assigned',\n '  M9G  Not assigned',\n '  M1H  Scarborough  Cedarbrae',\n 'M2H  North York  Hillcrest Village',\n 'M3H  North York  Bathurst Manor, Wilson Heights, Downsview North',\n 'M4H  East York  Thorncliffe Park',\n 'M5H  Downtown Toronto  Richmond, Adelaide, King',\n 'M6H  West Toronto  Dufferin, Dovercourt Village',\n 'M7H  Not assigned',\n '  M8H  Not assigned',\n '  M9H  Not assigned',\n '  M1J  Scarborough  Scarborough Village',\n 'M2J  North York  Fairview, Henry Farm, Oriole',\n 'M3J  North York  Northwood Park, York University',\n 'M4J  East York  East Toronto, Broadview North (Old East York)',\n 'M5J  Downtown Toronto  Harbourfront East, Union Station, Toronto Islands',\n 'M6J  West Toronto  Little Portugal, Trinity',\n 'M7J  Not assigned',\n '  M8J  Not assigned',\n '  M9J  Not assigned',\n '  M1K  Scarborough  Kennedy Park, Ionview, East Birchmount Park',\n 'M2K  North York  Bayview Village',\n 'M3K  North York  Downsview',\n 'M4K  East Toronto  The Danforth West, Riverdale',\n 'M5K  Downtown Toronto  Toronto Dominion Centre, Design Exchange',\n 'M6K  West Toronto  Brockton, Parkdale Village, Exhibition Place',\n 'M7K  Not assigned',\n '  M8K  Not assigned',\n '  M9K  Not assigned',\n '  M1L  Scarborough  Golden Mile, Clairlea, Oakridge',\n 'M2L  North York  York Mills, Silver Hills',\n 'M3L  North York  Downsview',\n 'M4L  East Toronto  India Bazaar, The Beaches West',\n 'M5L  Downtown Toronto  Commerce Court, Victoria Hotel',\n 'M6L  North York  North Park, Maple Leaf Park, Upwood Park',\n 'M7L  Not assigned',\n '  M8L  Not assigned',\n '  M9L  North York  Humber Summit',\n 'M1M  Scarborough  Cliffside, Cliffcrest, Scarborough Village West',\n 'M2M  North York  Willowdale, Newtonbrook',\n 'M3M  North York  Downsview',\n 'M4M  East Toronto  Studio District',\n 'M5M  North York  Bedford Park, Lawrence Manor East',\n 'M6M  York  Del Ray, Mount Dennis, Keelsdale and Silverthorn',\n 'M7M  Not assigned',\n '  M8M  Not assigned',\n '  M9M  North York  Humberlea, Emery',\n 'M1N  Scarborough  Birch Cliff, Cliffside West',\n 'M2N  North York  Willowdale, Willowdale East',\n 'M3N  North York  Downsview',\n 'M4N  Central Toronto  Lawrence Park',\n 'M5N  Central Toronto  Roselawn',\n 'M6N  York  Runnymede, The Junction North',\n 'M7N  Not assigned',\n '  M8N  Not assigned',\n '  M9N  York  Weston',\n 'M1P  Scarborough  Dorset Park, Wexford Heights, Scarborough Town Centre',\n 'M2P  North York  York Mills West',\n 'M3P  Not assigned',\n '  M4P  Central Toronto  Davisville North',\n 'M5P  Central Toronto  Forest Hill North & West, Forest Hill Road Park',\n 'M6P  West Toronto  High Park, The Junction South',\n 'M7P  Not assigned',\n '  M8P  Not assigned',\n '  M9P  Etobicoke  Westmount',\n 'M1R  Scarborough  Wexford, Maryvale',\n 'M2R  North York  Willowdale, Willowdale West',\n 'M3R  Not assigned',\n '  M4R  Central Toronto  North Toronto West,  Lawrence Park',\n 'M5R  Central Toronto  The Annex, North Midtown, Yorkville',\n 'M6R  West Toronto  Parkdale, Roncesvalles',\n 'M7R  Mississauga  Canada Post Gateway Processing Centre',\n 'M8R  Not assigned',\n '  M9R  Etobicoke  Kingsview Village, St. Phillips, Martin Grove Gardens, Richview Gardens',\n 'M1S  Scarborough  Agincourt',\n 'M2S  Not assigned',\n '  M3S  Not assigned',\n '  M4S  Central Toronto  Davisville',\n 'M5S  Downtown Toronto  University of Toronto, Harbord',\n 'M6S  West Toronto  Runnymede, Swansea',\n 'M7S  Not assigned',\n '  M8S  Not assigned',\n '  M9S  Not assigned',\n \"  M1T  Scarborough  Clarks Corners, Tam O'Shanter, Sullivan\",\n 'M2T  Not assigned',\n '  M3T  Not assigned',\n '  M4T  Central Toronto  Moore Park, Summerhill East',\n 'M5T  Downtown Toronto  Kensington Market, Chinatown, Grange Park',\n 'M6T  Not assigned',\n '  M7T  Not assigned',\n '  M8T  Not assigned',\n '  M9T  Not assigned',\n \"  M1V  Scarborough  Milliken, Agincourt North, Steeles East, L'Amoreaux East\",\n 'M2V  Not assigned',\n '  M3V  Not assigned',\n '  M4V  Central Toronto  Summerhill West, Rathnelly, South Hill, Forest Hill SE, Deer Park',\n 'M5V  Downtown Toronto  CN Tower, King and Spadina, Railway Lands, Harbourfront West, Bathurst Quay, South Niagara, Island airport',\n 'M6V  Not assigned',\n '  M7V  Not assigned',\n '  M8V  Etobicoke  New Toronto, Mimico South, Humber Bay Shores',\n 'M9V  Etobicoke  South Steeles, Silverstone, Humbergate, Jamestown, Mount Olive, Beaumond Heights, Thistletown, Albion Gardens',\n \"M1W  Scarborough  Steeles West, L'Amoreaux West\",\n 'M2W  Not assigned',\n '  M3W  Not assigned',\n '  M4W  Downtown Toronto  Rosedale',\n 'M5W  Downtown Toronto  Stn A PO Boxes',\n 'M6W  Not assigned',\n '  M7W  Not assigned',\n '  M8W  Etobicoke  Alderwood, Long Branch',\n 'M9W  Etobicoke  Northwest, West Humber - Clairville',\n 'M1X  Scarborough  Upper Rouge',\n 'M2X  Not assigned',\n '  M3X  Not assigned',\n '  M4X  Downtown Toronto  St. James Town, Cabbagetown',\n 'M5X  Downtown Toronto  First Canadian Place, Underground city',\n 'M6X  Not assigned',\n '  M7X  Not assigned',\n '  M8X  Etobicoke  The Kingsway, Montgomery Road, Old Mill North',\n 'M9X  Not assigned',\n '  M1Y  Not assigned',\n '  M2Y  Not assigned',\n '  M3Y  Not assigned',\n '  M4Y  Downtown Toronto  Church and Wellesley',\n 'M5Y  Not assigned',\n '  M6Y  Not assigned',\n '  M7Y  East Toronto  Business reply mail Processing Centre, South Central Letter Processing Plant Toronto',\n \"M8Y  Etobicoke  Old Mill South, King's Mill Park, Sunnylea, Humber Bay, Mimico NE, The Queensway East, Royal York South East, Kingsway Park South East\",\n 'M9Y  Not assigned',\n '  M1Z  Not assigned',\n '  M2Z  Not assigned',\n '  M3Z  Not assigned',\n '  M4Z  Not assigned',\n '  M5Z  Not assigned',\n '  M6Z  Not assigned',\n '  M7Z  Not assigned',\n '  M8Z  Etobicoke  Mimico NW, The Queensway West, South of Bloor, Kingsway Park South West, Royal York South West',\n 'M9Z  Not assigned',\n '']"
                    },
                    "metadata": {}
                }
            ]
        },
        {
            "metadata": {},
            "cell_type": "markdown",
            "source": "We dont need leading or trailing white spaces in each entry like for example in \" M2A Not assigned\" and also the column names."
        },
        {
            "metadata": {},
            "cell_type": "code",
            "source": "clean_table_list = table_list[1:]\nclean_table_list = [entry.strip() for entry in clean_table_list]\nclean_table_list[:20]",
            "execution_count": 177,
            "outputs": [
                {
                    "output_type": "execute_result",
                    "execution_count": 177,
                    "data": {
                        "text/plain": "['M1A  Not assigned',\n 'M2A  Not assigned',\n 'M3A  North York  Parkwoods',\n 'M4A  North York  Victoria Village',\n 'M5A  Downtown Toronto  Regent Park, Harbourfront',\n 'M6A  North York  Lawrence Manor, Lawrence Heights',\n \"M7A  Downtown Toronto  Queen's Park, Ontario Provincial Government\",\n 'M8A  Not assigned',\n 'M9A  Etobicoke  Islington Avenue, Humber Valley Village',\n 'M1B  Scarborough  Malvern, Rouge',\n 'M2B  Not assigned',\n 'M3B  North York  Don Mills',\n 'M4B  East York  Parkview Hill, Woodbine Gardens',\n 'M5B  Downtown Toronto  Garden District, Ryerson',\n 'M6B  North York  Glencairn',\n 'M7B  Not assigned',\n 'M8B  Not assigned',\n 'M9B  Etobicoke  West Deane Park, Princess Gardens, Martin Grove, Islington, Cloverdale',\n 'M1C  Scarborough  Rouge Hill, Port Union, Highland Creek',\n 'M2C  Not assigned']"
                    },
                    "metadata": {}
                }
            ]
        },
        {
            "metadata": {},
            "cell_type": "markdown",
            "source": "So now we need to split the elements of each entry and store it into the the column of the dataframe"
        },
        {
            "metadata": {
                "scrolled": true
            },
            "cell_type": "code",
            "source": "clean_table_list_v2 = [entry.split('  ') for entry in clean_table_list]\nclean_table_list_v2",
            "execution_count": 231,
            "outputs": [
                {
                    "output_type": "execute_result",
                    "execution_count": 231,
                    "data": {
                        "text/plain": "[['M1A', 'Not assigned'],\n ['M2A', 'Not assigned'],\n ['M3A', 'North York', 'Parkwoods'],\n ['M4A', 'North York', 'Victoria Village'],\n ['M5A', 'Downtown Toronto', 'Regent Park, Harbourfront'],\n ['M6A', 'North York', 'Lawrence Manor, Lawrence Heights'],\n ['M7A', 'Downtown Toronto', \"Queen's Park, Ontario Provincial Government\"],\n ['M8A', 'Not assigned'],\n ['M9A', 'Etobicoke', 'Islington Avenue, Humber Valley Village'],\n ['M1B', 'Scarborough', 'Malvern, Rouge'],\n ['M2B', 'Not assigned'],\n ['M3B', 'North York', 'Don Mills'],\n ['M4B', 'East York', 'Parkview Hill, Woodbine Gardens'],\n ['M5B', 'Downtown Toronto', 'Garden District, Ryerson'],\n ['M6B', 'North York', 'Glencairn'],\n ['M7B', 'Not assigned'],\n ['M8B', 'Not assigned'],\n ['M9B',\n  'Etobicoke',\n  'West Deane Park, Princess Gardens, Martin Grove, Islington, Cloverdale'],\n ['M1C', 'Scarborough', 'Rouge Hill, Port Union, Highland Creek'],\n ['M2C', 'Not assigned'],\n ['M3C', 'North York', 'Don Mills'],\n ['M4C', 'East York', 'Woodbine Heights'],\n ['M5C', 'Downtown Toronto', 'St. James Town'],\n ['M6C', 'York', 'Humewood-Cedarvale'],\n ['M7C', 'Not assigned'],\n ['M8C', 'Not assigned'],\n ['M9C',\n  'Etobicoke',\n  'Eringate, Bloordale Gardens, Old Burnhamthorpe, Markland Wood'],\n ['M1E', 'Scarborough', 'Guildwood, Morningside, West Hill'],\n ['M2E', 'Not assigned'],\n ['M3E', 'Not assigned'],\n ['M4E', 'East Toronto', 'The Beaches'],\n ['M5E', 'Downtown Toronto', 'Berczy Park'],\n ['M6E', 'York', 'Caledonia-Fairbanks'],\n ['M7E', 'Not assigned'],\n ['M8E', 'Not assigned'],\n ['M9E', 'Not assigned'],\n ['M1G', 'Scarborough', 'Woburn'],\n ['M2G', 'Not assigned'],\n ['M3G', 'Not assigned'],\n ['M4G', 'East York', 'Leaside'],\n ['M5G', 'Downtown Toronto', 'Central Bay Street'],\n ['M6G', 'Downtown Toronto', 'Christie'],\n ['M7G', 'Not assigned'],\n ['M8G', 'Not assigned'],\n ['M9G', 'Not assigned'],\n ['M1H', 'Scarborough', 'Cedarbrae'],\n ['M2H', 'North York', 'Hillcrest Village'],\n ['M3H', 'North York', 'Bathurst Manor, Wilson Heights, Downsview North'],\n ['M4H', 'East York', 'Thorncliffe Park'],\n ['M5H', 'Downtown Toronto', 'Richmond, Adelaide, King'],\n ['M6H', 'West Toronto', 'Dufferin, Dovercourt Village'],\n ['M7H', 'Not assigned'],\n ['M8H', 'Not assigned'],\n ['M9H', 'Not assigned'],\n ['M1J', 'Scarborough', 'Scarborough Village'],\n ['M2J', 'North York', 'Fairview, Henry Farm, Oriole'],\n ['M3J', 'North York', 'Northwood Park, York University'],\n ['M4J', 'East York', 'East Toronto, Broadview North (Old East York)'],\n ['M5J',\n  'Downtown Toronto',\n  'Harbourfront East, Union Station, Toronto Islands'],\n ['M6J', 'West Toronto', 'Little Portugal, Trinity'],\n ['M7J', 'Not assigned'],\n ['M8J', 'Not assigned'],\n ['M9J', 'Not assigned'],\n ['M1K', 'Scarborough', 'Kennedy Park, Ionview, East Birchmount Park'],\n ['M2K', 'North York', 'Bayview Village'],\n ['M3K', 'North York', 'Downsview'],\n ['M4K', 'East Toronto', 'The Danforth West, Riverdale'],\n ['M5K', 'Downtown Toronto', 'Toronto Dominion Centre, Design Exchange'],\n ['M6K', 'West Toronto', 'Brockton, Parkdale Village, Exhibition Place'],\n ['M7K', 'Not assigned'],\n ['M8K', 'Not assigned'],\n ['M9K', 'Not assigned'],\n ['M1L', 'Scarborough', 'Golden Mile, Clairlea, Oakridge'],\n ['M2L', 'North York', 'York Mills, Silver Hills'],\n ['M3L', 'North York', 'Downsview'],\n ['M4L', 'East Toronto', 'India Bazaar, The Beaches West'],\n ['M5L', 'Downtown Toronto', 'Commerce Court, Victoria Hotel'],\n ['M6L', 'North York', 'North Park, Maple Leaf Park, Upwood Park'],\n ['M7L', 'Not assigned'],\n ['M8L', 'Not assigned'],\n ['M9L', 'North York', 'Humber Summit'],\n ['M1M', 'Scarborough', 'Cliffside, Cliffcrest, Scarborough Village West'],\n ['M2M', 'North York', 'Willowdale, Newtonbrook'],\n ['M3M', 'North York', 'Downsview'],\n ['M4M', 'East Toronto', 'Studio District'],\n ['M5M', 'North York', 'Bedford Park, Lawrence Manor East'],\n ['M6M', 'York', 'Del Ray, Mount Dennis, Keelsdale and Silverthorn'],\n ['M7M', 'Not assigned'],\n ['M8M', 'Not assigned'],\n ['M9M', 'North York', 'Humberlea, Emery'],\n ['M1N', 'Scarborough', 'Birch Cliff, Cliffside West'],\n ['M2N', 'North York', 'Willowdale, Willowdale East'],\n ['M3N', 'North York', 'Downsview'],\n ['M4N', 'Central Toronto', 'Lawrence Park'],\n ['M5N', 'Central Toronto', 'Roselawn'],\n ['M6N', 'York', 'Runnymede, The Junction North'],\n ['M7N', 'Not assigned'],\n ['M8N', 'Not assigned'],\n ['M9N', 'York', 'Weston'],\n ['M1P',\n  'Scarborough',\n  'Dorset Park, Wexford Heights, Scarborough Town Centre'],\n ['M2P', 'North York', 'York Mills West'],\n ['M3P', 'Not assigned'],\n ['M4P', 'Central Toronto', 'Davisville North'],\n ['M5P', 'Central Toronto', 'Forest Hill North & West, Forest Hill Road Park'],\n ['M6P', 'West Toronto', 'High Park, The Junction South'],\n ['M7P', 'Not assigned'],\n ['M8P', 'Not assigned'],\n ['M9P', 'Etobicoke', 'Westmount'],\n ['M1R', 'Scarborough', 'Wexford, Maryvale'],\n ['M2R', 'North York', 'Willowdale, Willowdale West'],\n ['M3R', 'Not assigned'],\n ['M4R', 'Central Toronto', 'North Toronto West,', 'Lawrence Park'],\n ['M5R', 'Central Toronto', 'The Annex, North Midtown, Yorkville'],\n ['M6R', 'West Toronto', 'Parkdale, Roncesvalles'],\n ['M7R', 'Mississauga', 'Canada Post Gateway Processing Centre'],\n ['M8R', 'Not assigned'],\n ['M9R',\n  'Etobicoke',\n  'Kingsview Village, St. Phillips, Martin Grove Gardens, Richview Gardens'],\n ['M1S', 'Scarborough', 'Agincourt'],\n ['M2S', 'Not assigned'],\n ['M3S', 'Not assigned'],\n ['M4S', 'Central Toronto', 'Davisville'],\n ['M5S', 'Downtown Toronto', 'University of Toronto, Harbord'],\n ['M6S', 'West Toronto', 'Runnymede, Swansea'],\n ['M7S', 'Not assigned'],\n ['M8S', 'Not assigned'],\n ['M9S', 'Not assigned'],\n ['M1T', 'Scarborough', \"Clarks Corners, Tam O'Shanter, Sullivan\"],\n ['M2T', 'Not assigned'],\n ['M3T', 'Not assigned'],\n ['M4T', 'Central Toronto', 'Moore Park, Summerhill East'],\n ['M5T', 'Downtown Toronto', 'Kensington Market, Chinatown, Grange Park'],\n ['M6T', 'Not assigned'],\n ['M7T', 'Not assigned'],\n ['M8T', 'Not assigned'],\n ['M9T', 'Not assigned'],\n ['M1V',\n  'Scarborough',\n  \"Milliken, Agincourt North, Steeles East, L'Amoreaux East\"],\n ['M2V', 'Not assigned'],\n ['M3V', 'Not assigned'],\n ['M4V',\n  'Central Toronto',\n  'Summerhill West, Rathnelly, South Hill, Forest Hill SE, Deer Park'],\n ['M5V',\n  'Downtown Toronto',\n  'CN Tower, King and Spadina, Railway Lands, Harbourfront West, Bathurst Quay, South Niagara, Island airport'],\n ['M6V', 'Not assigned'],\n ['M7V', 'Not assigned'],\n ['M8V', 'Etobicoke', 'New Toronto, Mimico South, Humber Bay Shores'],\n ['M9V',\n  'Etobicoke',\n  'South Steeles, Silverstone, Humbergate, Jamestown, Mount Olive, Beaumond Heights, Thistletown, Albion Gardens'],\n ['M1W', 'Scarborough', \"Steeles West, L'Amoreaux West\"],\n ['M2W', 'Not assigned'],\n ['M3W', 'Not assigned'],\n ['M4W', 'Downtown Toronto', 'Rosedale'],\n ['M5W', 'Downtown Toronto', 'Stn A PO Boxes'],\n ['M6W', 'Not assigned'],\n ['M7W', 'Not assigned'],\n ['M8W', 'Etobicoke', 'Alderwood, Long Branch'],\n ['M9W', 'Etobicoke', 'Northwest, West Humber - Clairville'],\n ['M1X', 'Scarborough', 'Upper Rouge'],\n ['M2X', 'Not assigned'],\n ['M3X', 'Not assigned'],\n ['M4X', 'Downtown Toronto', 'St. James Town, Cabbagetown'],\n ['M5X', 'Downtown Toronto', 'First Canadian Place, Underground city'],\n ['M6X', 'Not assigned'],\n ['M7X', 'Not assigned'],\n ['M8X', 'Etobicoke', 'The Kingsway, Montgomery Road, Old Mill North'],\n ['M9X', 'Not assigned'],\n ['M1Y', 'Not assigned'],\n ['M2Y', 'Not assigned'],\n ['M3Y', 'Not assigned'],\n ['M4Y', 'Downtown Toronto', 'Church and Wellesley'],\n ['M5Y', 'Not assigned'],\n ['M6Y', 'Not assigned'],\n ['M7Y',\n  'East Toronto',\n  'Business reply mail Processing Centre, South Central Letter Processing Plant Toronto'],\n ['M8Y',\n  'Etobicoke',\n  \"Old Mill South, King's Mill Park, Sunnylea, Humber Bay, Mimico NE, The Queensway East, Royal York South East, Kingsway Park South East\"],\n ['M9Y', 'Not assigned'],\n ['M1Z', 'Not assigned'],\n ['M2Z', 'Not assigned'],\n ['M3Z', 'Not assigned'],\n ['M4Z', 'Not assigned'],\n ['M5Z', 'Not assigned'],\n ['M6Z', 'Not assigned'],\n ['M7Z', 'Not assigned'],\n ['M8Z',\n  'Etobicoke',\n  'Mimico NW, The Queensway West, South of Bloor, Kingsway Park South West, Royal York South West'],\n ['M9Z', 'Not assigned'],\n ['']]"
                    },
                    "metadata": {}
                }
            ]
        },
        {
            "metadata": {},
            "cell_type": "markdown",
            "source": "Now each entry is ready"
        },
        {
            "metadata": {
                "scrolled": true
            },
            "cell_type": "code",
            "source": "postal_codes = [code[0] for code in clean_table_list_v2[:-1]]\npostal_codes[:10]",
            "execution_count": 263,
            "outputs": [
                {
                    "output_type": "execute_result",
                    "execution_count": 263,
                    "data": {
                        "text/plain": "['M1A', 'M2A', 'M3A', 'M4A', 'M5A', 'M6A', 'M7A', 'M8A', 'M9A', 'M1B']"
                    },
                    "metadata": {}
                }
            ]
        },
        {
            "metadata": {},
            "cell_type": "code",
            "source": "borough = [bor[1] for bor in clean_table_list_v2[:-1]]\nborough[:10]",
            "execution_count": 261,
            "outputs": [
                {
                    "output_type": "execute_result",
                    "execution_count": 261,
                    "data": {
                        "text/plain": "['Not assigned',\n 'Not assigned',\n 'North York',\n 'North York',\n 'Downtown Toronto',\n 'North York',\n 'Downtown Toronto',\n 'Not assigned',\n 'Etobicoke',\n 'Scarborough']"
                    },
                    "metadata": {}
                }
            ]
        },
        {
            "metadata": {},
            "cell_type": "code",
            "source": "neighborhood = ['na' if neigh[1] == 'Not assigned' else neigh[2] for neigh in clean_table_list_v2[:-1]]\nneighborhood[:10]",
            "execution_count": 260,
            "outputs": [
                {
                    "output_type": "execute_result",
                    "execution_count": 260,
                    "data": {
                        "text/plain": "['na',\n 'na',\n 'Parkwoods',\n 'Victoria Village',\n 'Regent Park, Harbourfront',\n 'Lawrence Manor, Lawrence Heights',\n \"Queen's Park, Ontario Provincial Government\",\n 'na',\n 'Islington Avenue, Humber Valley Village',\n 'Malvern, Rouge']"
                    },
                    "metadata": {}
                }
            ]
        },
        {
            "metadata": {},
            "cell_type": "code",
            "source": "toronto_df = pd.DataFrame(columns = ['PostalCode', 'Borough', 'Neighborhood'])\ntoronto_df['PostalCode'] = postal_codes\ntoronto_df['Borough'] = borough\ntoronto_df['Neighborhood'] = neighborhood\ntoronto_df.head()",
            "execution_count": 264,
            "outputs": [
                {
                    "output_type": "execute_result",
                    "execution_count": 264,
                    "data": {
                        "text/plain": "  PostalCode           Borough               Neighborhood\n0        M1A      Not assigned                         na\n1        M2A      Not assigned                         na\n2        M3A        North York                  Parkwoods\n3        M4A        North York           Victoria Village\n4        M5A  Downtown Toronto  Regent Park, Harbourfront",
                        "text/html": "<div>\n<style scoped>\n    .dataframe tbody tr th:only-of-type {\n        vertical-align: middle;\n    }\n\n    .dataframe tbody tr th {\n        vertical-align: top;\n    }\n\n    .dataframe thead th {\n        text-align: right;\n    }\n</style>\n<table border=\"1\" class=\"dataframe\">\n  <thead>\n    <tr style=\"text-align: right;\">\n      <th></th>\n      <th>PostalCode</th>\n      <th>Borough</th>\n      <th>Neighborhood</th>\n    </tr>\n  </thead>\n  <tbody>\n    <tr>\n      <th>0</th>\n      <td>M1A</td>\n      <td>Not assigned</td>\n      <td>na</td>\n    </tr>\n    <tr>\n      <th>1</th>\n      <td>M2A</td>\n      <td>Not assigned</td>\n      <td>na</td>\n    </tr>\n    <tr>\n      <th>2</th>\n      <td>M3A</td>\n      <td>North York</td>\n      <td>Parkwoods</td>\n    </tr>\n    <tr>\n      <th>3</th>\n      <td>M4A</td>\n      <td>North York</td>\n      <td>Victoria Village</td>\n    </tr>\n    <tr>\n      <th>4</th>\n      <td>M5A</td>\n      <td>Downtown Toronto</td>\n      <td>Regent Park, Harbourfront</td>\n    </tr>\n  </tbody>\n</table>\n</div>"
                    },
                    "metadata": {}
                }
            ]
        },
        {
            "metadata": {},
            "cell_type": "markdown",
            "source": "#### Ignoring cells with Borough = 'Not assigned' "
        },
        {
            "metadata": {},
            "cell_type": "code",
            "source": "toronto_df = toronto_df[toronto_df.Borough != 'Not assigned'].reset_index(drop = True)\ntoronto_df.head(10)",
            "execution_count": 265,
            "outputs": [
                {
                    "output_type": "execute_result",
                    "execution_count": 265,
                    "data": {
                        "text/plain": "  PostalCode           Borough                                 Neighborhood\n0        M3A        North York                                    Parkwoods\n1        M4A        North York                             Victoria Village\n2        M5A  Downtown Toronto                    Regent Park, Harbourfront\n3        M6A        North York             Lawrence Manor, Lawrence Heights\n4        M7A  Downtown Toronto  Queen's Park, Ontario Provincial Government\n5        M9A         Etobicoke      Islington Avenue, Humber Valley Village\n6        M1B       Scarborough                               Malvern, Rouge\n7        M3B        North York                                    Don Mills\n8        M4B         East York              Parkview Hill, Woodbine Gardens\n9        M5B  Downtown Toronto                     Garden District, Ryerson",
                        "text/html": "<div>\n<style scoped>\n    .dataframe tbody tr th:only-of-type {\n        vertical-align: middle;\n    }\n\n    .dataframe tbody tr th {\n        vertical-align: top;\n    }\n\n    .dataframe thead th {\n        text-align: right;\n    }\n</style>\n<table border=\"1\" class=\"dataframe\">\n  <thead>\n    <tr style=\"text-align: right;\">\n      <th></th>\n      <th>PostalCode</th>\n      <th>Borough</th>\n      <th>Neighborhood</th>\n    </tr>\n  </thead>\n  <tbody>\n    <tr>\n      <th>0</th>\n      <td>M3A</td>\n      <td>North York</td>\n      <td>Parkwoods</td>\n    </tr>\n    <tr>\n      <th>1</th>\n      <td>M4A</td>\n      <td>North York</td>\n      <td>Victoria Village</td>\n    </tr>\n    <tr>\n      <th>2</th>\n      <td>M5A</td>\n      <td>Downtown Toronto</td>\n      <td>Regent Park, Harbourfront</td>\n    </tr>\n    <tr>\n      <th>3</th>\n      <td>M6A</td>\n      <td>North York</td>\n      <td>Lawrence Manor, Lawrence Heights</td>\n    </tr>\n    <tr>\n      <th>4</th>\n      <td>M7A</td>\n      <td>Downtown Toronto</td>\n      <td>Queen's Park, Ontario Provincial Government</td>\n    </tr>\n    <tr>\n      <th>5</th>\n      <td>M9A</td>\n      <td>Etobicoke</td>\n      <td>Islington Avenue, Humber Valley Village</td>\n    </tr>\n    <tr>\n      <th>6</th>\n      <td>M1B</td>\n      <td>Scarborough</td>\n      <td>Malvern, Rouge</td>\n    </tr>\n    <tr>\n      <th>7</th>\n      <td>M3B</td>\n      <td>North York</td>\n      <td>Don Mills</td>\n    </tr>\n    <tr>\n      <th>8</th>\n      <td>M4B</td>\n      <td>East York</td>\n      <td>Parkview Hill, Woodbine Gardens</td>\n    </tr>\n    <tr>\n      <th>9</th>\n      <td>M5B</td>\n      <td>Downtown Toronto</td>\n      <td>Garden District, Ryerson</td>\n    </tr>\n  </tbody>\n</table>\n</div>"
                    },
                    "metadata": {}
                }
            ]
        },
        {
            "metadata": {},
            "cell_type": "markdown",
            "source": "Checking whether there a borough with no neighborhood assigned or not"
        },
        {
            "metadata": {},
            "cell_type": "code",
            "source": "toronto_df.Neighborhood[toronto_df.Neighborhood == ''] #all neighborhoods with boroughs assigned do have neighborhood value",
            "execution_count": 266,
            "outputs": [
                {
                    "output_type": "execute_result",
                    "execution_count": 266,
                    "data": {
                        "text/plain": "Series([], Name: Neighborhood, dtype: object)"
                    },
                    "metadata": {}
                }
            ]
        },
        {
            "metadata": {},
            "cell_type": "markdown",
            "source": "### Checking the dimesions of the df - Final step"
        },
        {
            "metadata": {},
            "cell_type": "code",
            "source": "toronto_df.shape",
            "execution_count": 270,
            "outputs": [
                {
                    "output_type": "execute_result",
                    "execution_count": 270,
                    "data": {
                        "text/plain": "(103, 3)"
                    },
                    "metadata": {}
                }
            ]
        },
        {
            "metadata": {},
            "cell_type": "markdown",
            "source": "# <center> End of Webscraping (Part-1) </center>"
        },
        {
            "metadata": {},
            "cell_type": "markdown",
            "source": ""
        },
        {
            "metadata": {},
            "cell_type": "code",
            "source": "toronto_df.shape",
            "execution_count": 252,
            "outputs": [
                {
                    "output_type": "execute_result",
                    "execution_count": 252,
                    "data": {
                        "text/plain": "(103, 3)"
                    },
                    "metadata": {}
                }
            ]
        },
        {
            "metadata": {},
            "cell_type": "markdown",
            "source": ""
        },
        {
            "metadata": {},
            "cell_type": "code",
            "source": "",
            "execution_count": 259,
            "outputs": [
                {
                    "output_type": "execute_result",
                    "execution_count": 259,
                    "data": {
                        "text/plain": "Series([], Name: Neighborhood, dtype: object)"
                    },
                    "metadata": {}
                }
            ]
        },
        {
            "metadata": {},
            "cell_type": "code",
            "source": "",
            "execution_count": null,
            "outputs": []
        },
        {
            "metadata": {},
            "cell_type": "code",
            "source": "",
            "execution_count": null,
            "outputs": []
        },
        {
            "metadata": {},
            "cell_type": "markdown",
            "source": "The first three elements are our column names and we can avoid it"
        },
        {
            "metadata": {},
            "cell_type": "markdown",
            "source": "# _<center>Final Project Part-2</center>_"
        },
        {
            "metadata": {},
            "cell_type": "markdown",
            "source": "# _<center>Final Project Part-3</center>_"
        },
        {
            "metadata": {},
            "cell_type": "code",
            "source": "",
            "execution_count": null,
            "outputs": []
        }
    ],
    "metadata": {
        "kernelspec": {
            "name": "python3",
            "display_name": "Python 3.6",
            "language": "python"
        },
        "language_info": {
            "name": "python",
            "version": "3.6.9",
            "mimetype": "text/x-python",
            "codemirror_mode": {
                "name": "ipython",
                "version": 3
            },
            "pygments_lexer": "ipython3",
            "nbconvert_exporter": "python",
            "file_extension": ".py"
        }
    },
    "nbformat": 4,
    "nbformat_minor": 1
}